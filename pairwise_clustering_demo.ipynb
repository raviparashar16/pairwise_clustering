{
  "cells": [
    {
      "cell_type": "markdown",
      "metadata": {
        "id": "uErQP6X4P-v8"
      },
      "source": [
        "# Demo of Pairwise Clustering"
      ]
    },
    {
      "cell_type": "markdown",
      "metadata": {
        "id": "iByoGSYAP-v8"
      },
      "source": [
        "Let's take a look at a problem where pairwise clustering is a natural fit as a solution.\n",
        "\n",
        "Consider two datasets which contain information about researchers and their work. The datasets have significant overlap so that one record in one dataset and one record in the other actually refer to the same researcher. For some of the researchers it is trivial to match them because their orcid, a unique identifier, is available. However, for the vast majority of records the orcid is not available.\n",
        "\n",
        "Let's conduct some basic data analysis on these datasets so that we can craft a similarity score to feed into our pairwise clustering function."
      ]
    },
    {
      "cell_type": "markdown",
      "metadata": {
        "id": "etrhGD8GP-v9"
      },
      "source": [
        "This is the structure of the data in the two datasets\n",
        "| Column name | Type |\n",
        "| ------------ | --- |\n",
        "| id | Categorical |\n",
        "| first_name | Categorical |\n",
        "| middle_name | Categorical |\n",
        "| lastname | Categorical |\n",
        "| coinvestigator_lastnames/coauthor_lastnames | Variable length categorical array |\n",
        "| topics | Variable length categorical array |\n",
        "| cities | Variable length categorical key-value pair array |\n",
        "| countries | Variable length categorical key-value pair array |\n",
        "| orcid | Categorical |\n",
        "\n",
        "orcid and id will only be used in evaluation and output of the approaches, respectively (not as inputs to the algorithms)"
      ]
    },
    {
      "cell_type": "markdown",
      "metadata": {
        "id": "tMBkujgbP-v9"
      },
      "source": [
        "Let's load the data"
      ]
    },
    {
      "cell_type": "code",
      "execution_count": 1,
      "metadata": {
        "id": "k4DrhHJQP-v9"
      },
      "outputs": [],
      "source": [
        "import pandas as pd\n",
        "df_investigators = pd.read_csv('./investigator.csv', encoding='latin-1')\n",
        "df_investigators.columns = list(range(df_investigators.shape[1]))\n",
        "df_authors = pd.read_csv('./author.csv', encoding='latin-1')\n",
        "df_authors.columns = list(range(df_authors.shape[1]))\n",
        "df_input = pd.concat([df_authors, df_investigators], axis=0)\n",
        "df_input = df_input.reset_index()\n",
        "# creating 2d list of topics\n",
        "topics_element_arr = df_input[5]\n",
        "topics_arr = [eval(topic) for topic in topics_element_arr]\n",
        "# creating 2d list of cities\n",
        "cities_element_arr = df_input[6]\n",
        "cities_dict_arr = [eval(city.replace(\"null\", \"None\")) for city in cities_element_arr]\n",
        "cities_arr = [[city_dict['identifier'] for city_dict in city_list] for city_list in cities_dict_arr]\n",
        "# creating 2d list of countries\n",
        "countries_element_arr = df_input[7]\n",
        "countries_dict_arr = [eval(country.replace(\"null\", \"None\")) for country in countries_element_arr]\n",
        "countries_arr = [[country_dict['identifier'] for country_dict in country_list] for country_list in countries_dict_arr]"
      ]
    },
    {
      "cell_type": "markdown",
      "metadata": {
        "id": "PMsRzbP9P-v9"
      },
      "source": [
        "## Exploring the data\n",
        "By briefly looking at the data, it seems that the following rules apply to the first name, middle name, and last name of matching instances\n",
        "* The last name must match exactly\n",
        "* If the first name is NA or missing for either one, then nothing has to match; If one only has a first initial and the other has the full first name, the first character of the first name must match the other first initial; otherwise, the first name must match exactly\n",
        "* If the middle name is NA or missing for either one, then nothing has to match; if one only has the middle initial and the other has the full middle name, the first character of the middle name must match the other middle initial; otherwise, the middle name must match exactly\n",
        "\n",
        "Names which contain periods have their periods removed, as this is not part of the name\n",
        "\n",
        "Let's see if our hypotheses hold by testing them on known matching instances"
      ]
    },
    {
      "cell_type": "code",
      "execution_count": 2,
      "metadata": {
        "id": "8fuTRG7bP-v9"
      },
      "outputs": [],
      "source": [
        "for i in range(1019, len(df_input[0])): # number of records in investigator dataset\n",
        "  for a in range(1019): # number of records in author dataset\n",
        "    last = True\n",
        "    middle = True\n",
        "    first = True\n",
        "    # if these are matching instances\n",
        "    if df_input[8][i] == df_input[8][a] and not pd.isna(df_input[8][i]):\n",
        "      # if the last names do not exactly match\n",
        "      if not df_input[3][i] == df_input[3][a]:\n",
        "        last = False\n",
        "      # if these are non-NaN values\n",
        "      investigator_first = df_input[1][i]\n",
        "      author_first = df_input[1][a]\n",
        "      if not pd.isna(investigator_first) and not pd.isna(author_first):\n",
        "        if investigator_first.find('.') >= 0:\n",
        "          investigator_first = investigator_first.replace('.','')\n",
        "        if author_first.find('.') >= 0:\n",
        "          author_first = author_first.replace('.','')\n",
        "        if len(author_first) > 0 and len(investigator_first) > 0:\n",
        "          # if the length of either the investigator or author first name is 1\n",
        "          if len(investigator_first) == 1 or len(author_first) == 1:\n",
        "            # if the first characters of the first names do not match\n",
        "            if not investigator_first[0] == author_first[0]:\n",
        "              first = False\n",
        "          elif len(investigator_first) > 1 and len(author_first) > 1:\n",
        "            # if the first names do not match\n",
        "            if not investigator_first == author_first:\n",
        "              first = False\n",
        "      # if these are non-NaN values\n",
        "      investigator_middle = df_input[2][i]\n",
        "      author_middle = df_input[2][a]\n",
        "      if not pd.isna(investigator_middle) and not pd.isna(author_middle):\n",
        "        if investigator_middle.find('.') >= 0:\n",
        "          investigator_middle = investigator_middle.replace('.','')\n",
        "        if author_middle.find('.') >= 0:\n",
        "          author_middle = author_middle.replace('.','')\n",
        "        if len(author_middle) > 0 and len(investigator_middle) > 0:\n",
        "          # if the length of either the investigator or author middle name is 1\n",
        "          if len(investigator_middle) == 1 or len(author_middle) == 1:\n",
        "            # if the first characters of the middle names do not match\n",
        "            if not investigator_middle[0] == author_middle[0]:\n",
        "              middle = False\n",
        "          elif len(investigator_middle) > 1 and len(author_middle) > 1:\n",
        "            # if the middle names do not match\n",
        "            if not investigator_middle == author_middle:\n",
        "              middle = False\n",
        "    # if any of the first, middle, or last names do not match as described\n",
        "    # print \"not a match\"\n",
        "    if not (first and middle and last):\n",
        "      print(\"not a match\")\n"
      ]
    },
    {
      "cell_type": "markdown",
      "metadata": {
        "id": "IVfUdyirP-v-"
      },
      "source": [
        "We set up the code in the previous cell to output \"not a match\" for any records which are in fact matching on their orcids but according to our hypotheses were not a match. Because the previous cell produced no output, our hypothesis seems to be vindicated.\n",
        "\n",
        "Let us now see how other features related in matching instances. Let's first examine how often country and city are the same in matching instances."
      ]
    },
    {
      "cell_type": "code",
      "execution_count": 3,
      "metadata": {
        "colab": {
          "base_uri": "https://localhost:8080/"
        },
        "id": "JEwTQJP7P-v-",
        "outputId": "683f1d1e-4942-49cc-c02a-31f0dd64309c"
      },
      "outputs": [
        {
          "name": "stdout",
          "output_type": "stream",
          "text": [
            "countries fractions: [1.0, 1.0, 1.0, 1.0, 1.0, 1.0, 1.0, 1.0, 1.0, 1.0, 1.0, 1.0, 1.0, 1.0, 1.0, 1.0, 1.0, 1.0, 1.0, 1.0, 1.0, 1.0, 1.0, 1.0, 1.0, 1.0, 1.0, 1.0, 1.0, 1.0, 1.0, 1.0, 1.0, 1.0, 1.0, 1.0, 1.0, 1.0, 1.0, 1.0, 1.0, 1.0, 1.0, 1.0, 1.0, 1.0, 1.0, 1.0, 1.0, 1.0, 1.0, 1.0, 1.0, 1.0, 1.0, 1.0, 1.0, 1.0, 1.0, 1.0, 1.0, 1.0, 1.0, 1.0, 1.0, 1.0, 1.0, 1.0, 1.0, 1.0, 1.0, 1.0, 1.0, 1.0, 1.0, 1.0, 1.0, 1.0, 1.0, 1.0, 1.0, 1.0, 1.0, 1.0, 1.0, 1.0, 1.0, 1.0, 1.0, 1.0, 1.0, 1.0, 1.0, 1.0, 1.0, 1.0, 1.0, 1.0, 1.0, 1.0, 1.0, 1.0, 1.0, 1.0, 1.0, 1.0, 1.0, 1.0, 1.0, 1.0, 1.0, 1.0, 1.0, 1.0, 1.0, 1.0, 1.0, 1.0, 1.0, 1.0, 1.0, 1.0, 1.0, 1.0, 1.0, 1.0, 1.0, 1.0, 1.0, 1.0, 1.0, 1.0, 1.0, 1.0, 1.0, 1.0, 1.0, 1.0, 1.0, 1.0, 1.0, 1.0, 1.0, 1.0, 1.0, 1.0, 1.0, 1.0, 1.0, 1.0, 1.0, 1.0, 1.0, 1.0, 1.0, 1.0, 1.0, 1.0, 1.0, 1.0, 1.0, 1.0, 1.0, 1.0, 1.0, 1.0, 1.0, 1.0, 1.0, 1.0, 1.0, 1.0, 1.0, 1.0, 1.0, 1.0, 1.0, 1.0, 1.0, 1.0, 1.0, 1.0, 1.0, 1.0, 1.0, 1.0, 1.0, 1.0, 1.0, 1.0, 1.0, 1.0, 1.0, 1.0, 1.0, 1.0, 1.0, 1.0, 1.0, 1.0, 1.0, 1.0, 1.0, 1.0, 1.0, 1.0, 1.0, 1.0, 1.0, 1.0, 1.0, 1.0, 1.0, 1.0, 1.0, 1.0, 1.0, 1.0, 1.0, 1.0, 1.0, 1.0, 1.0, 1.0, 1.0, 1.0, 1.0, 1.0, 1.0, 1.0, 1.0, 1.0, 1.0, 1.0, 1.0, 1.0, 1.0, 1.0, 1.0, 1.0, 1.0, 1.0, 1.0, 1.0, 1.0, 1.0, 1.0, 1.0, 1.0, 1.0, 1.0, 1.0, 1.0, 1.0, 1.0, 1.0, 1.0, 1.0, 1.0, 1.0, 1.0, 1.0, 1.0, 1.0, 1.0, 1.0, 1.0, 1.0, 1.0, 1.0, 1.0, 1.0, 1.0, 1.0, 1.0, 1.0, 1.0, 1.0, 1.0, 1.0, 1.0, 1.0, 1.0, 1.0, 1.0, 1.0, 1.0, 1.0, 1.0, 1.0, 1.0, 1.0, 1.0, 1.0, 1.0, 1.0, 1.0, 1.0, 1.0, 1.0, 1.0, 1.0, 1.0, 1.0, 1.0, 1.0, 1.0, 1.0, 1.0, 1.0, 1.0, 1.0, 1.0, 1.0, 1.0, 1.0, 1.0, 1.0, 1.0, 1.0, 1.0, 1.0, 1.0, 1.0, 1.0, 1.0, 1.0, 1.0, 1.0, 1.0, 1.0, 1.0, 1.0, 1.0, 1.0, 1.0, 1.0, 1.0, 1.0, 1.0, 1.0, 1.0, 1.0, 1.0, 1.0, 1.0, 1.0, 1.0, 1.0, 1.0, 1.0, 1.0, 1.0, 1.0, 1.0, 1.0, 1.0, 1.0, 1.0, 1.0, 1.0, 1.0, 1.0, 1.0, 1.0, 1.0, 1.0, 1.0, 1.0, 1.0, 1.0, 1.0, 1.0, 1.0, 1.0, 1.0, 1.0, 1.0, 1.0, 1.0, 1.0, 1.0, 1.0, 1.0, 1.0, 1.0, 1.0, 1.0, 1.0, 1.0, 1.0, 1.0, 1.0, 1.0, 1.0, 1.0, 1.0, 1.0, 1.0, 1.0, 1.0, 1.0, 1.0, 1.0, 1.0, 1.0, 1.0, 1.0, 1.0, 1.0, 1.0, 1.0]\n",
            "cities fractions: [1.0, 1.0, 1.0, 1.0, 1.0, 1.0, 1.0, 1.0, 1.0, 1.0, 1.0, 1.0, 1.0, 1.0, 1.0, 1.0, 1.0, 1.0, 1.0, 1.0, 1.0, 1.0, 1.0, 1.0, 1.0, 1.0, 1.0, 1.0, 1.0, 1.0, 1.0, 1.0, 1.0, 1.0, 1.0, 1.0, 1.0, 1.0, 1.0, 1.0, 1.0, 1.0, 1.0, 1.0, 1.0, 1.0, 1.0, 1.0, 1.0, 1.0, 1.0, 1.0, 1.0, 1.0, 1.0, 1.0, 1.0, 1.0, 1.0, 1.0, 1.0, 1.0, 1.0, 1.0, 1.0, 1.0, 1.0, 1.0, 1.0, 1.0, 1.0, 1.0, 1.0, 1.0, 1.0, 1.0, 1.0, 1.0, 1.0, 1.0, 1.0, 1.0, 1.0, 1.0, 1.0, 1.0, 1.0, 1.0, 1.0, 1.0, 1.0, 1.0, 1.0, 1.0, 1.0, 1.0, 1.0, 1.0, 1.0, 1.0, 1.0, 1.0, 1.0, 1.0, 1.0, 1.0, 1.0, 1.0, 1.0, 1.0, 1.0, 1.0, 1.0, 1.0, 1.0, 1.0, 1.0, 1.0, 1.0, 1.0, 1.0, 1.0, 1.0, 1.0, 1.0, 1.0, 1.0, 1.0, 1.0, 1.0, 1.0, 1.0, 1.0, 1.0, 1.0, 1.0, 1.0, 1.0, 1.0, 1.0, 1.0, 1.0, 1.0, 1.0, 1.0, 1.0, 1.0, 1.0, 1.0, 1.0, 1.0, 1.0, 1.0, 1.0, 1.0, 1.0, 1.0, 1.0, 1.0, 1.0, 1.0, 1.0, 1.0, 1.0, 1.0, 1.0, 1.0, 1.0, 1.0, 1.0, 1.0, 1.0, 1.0, 1.0, 1.0, 1.0, 1.0, 1.0, 1.0, 1.0, 1.0, 1.0, 1.0, 1.0, 1.0, 1.0, 1.0, 1.0, 1.0, 1.0, 1.0, 1.0, 1.0, 1.0, 1.0, 1.0, 1.0, 1.0, 1.0, 1.0, 1.0, 1.0, 1.0, 1.0, 1.0, 1.0, 1.0, 1.0, 1.0, 1.0, 1.0, 1.0, 1.0, 1.0, 1.0, 1.0, 1.0, 1.0, 1.0, 1.0, 1.0, 1.0, 1.0, 1.0, 1.0, 1.0, 1.0, 1.0, 1.0, 1.0, 1.0, 1.0, 1.0, 1.0, 1.0, 1.0, 1.0, 1.0, 1.0, 1.0, 1.0, 1.0, 1.0, 1.0, 1.0, 1.0, 1.0, 1.0, 1.0, 1.0, 1.0, 1.0, 1.0, 1.0, 1.0, 1.0, 1.0, 1.0, 1.0, 1.0, 1.0, 1.0, 1.0, 1.0, 1.0, 1.0, 1.0, 1.0, 1.0, 1.0, 1.0, 1.0, 1.0, 1.0, 1.0, 1.0, 1.0, 1.0, 1.0, 1.0, 1.0, 1.0, 1.0, 1.0, 1.0, 1.0, 1.0, 1.0, 1.0, 1.0, 1.0, 1.0, 1.0, 1.0, 1.0, 1.0, 1.0, 1.0, 1.0, 1.0, 1.0, 1.0, 1.0, 1.0, 1.0, 1.0, 1.0, 1.0, 1.0, 1.0, 1.0, 1.0, 1.0, 1.0, 1.0, 1.0, 1.0, 1.0, 1.0, 1.0, 1.0, 1.0, 1.0, 1.0, 1.0, 1.0, 1.0, 1.0, 1.0, 1.0, 1.0, 1.0, 1.0, 1.0, 1.0, 1.0, 1.0, 1.0, 1.0, 1.0, 1.0, 1.0, 1.0, 1.0, 1.0, 1.0, 1.0, 1.0, 1.0, 1.0, 1.0, 1.0, 1.0, 1.0, 1.0, 1.0, 1.0, 1.0, 1.0, 1.0, 1.0, 1.0, 1.0, 1.0, 1.0, 1.0, 1.0, 1.0, 1.0, 1.0, 1.0, 1.0, 1.0, 1.0, 1.0, 1.0, 1.0, 1.0, 1.0, 1.0, 1.0, 1.0, 1.0, 1.0, 1.0, 1.0, 1.0, 1.0, 1.0, 1.0, 1.0, 1.0, 1.0, 1.0, 1.0, 1.0, 1.0, 1.0, 1.0, 1.0, 1.0, 1.0, 1.0, 1.0, 1.0, 1.0, 1.0, 1.0, 1.0, 1.0, 1.0, 1.0]\n"
          ]
        }
      ],
      "source": [
        "countries_percentages = []\n",
        "cities_percentages = []\n",
        "for i in range(1019, len(df_input[0])):\n",
        "  for a in range(1019):\n",
        "    # if these are matching instances\n",
        "    if df_input[8][i] == df_input[8][a] and not pd.isna(df_input[8][i]):\n",
        "      true_count = 0\n",
        "      # check if all the countries in the investigator array are in the author array and vice versa\n",
        "      set_i = set(countries_arr[i])\n",
        "      set_a = set(countries_arr[a])\n",
        "      inv_intersection = set_i.intersection(set_a)\n",
        "      auth_intersection = set_a.intersection(set_i)\n",
        "      countries_percentages.append(len(inv_intersection)/len(set_i) if len(set_i) > 0 else 1)\n",
        "      countries_percentages.append(len(auth_intersection)/len(set_a) if len(set_a) > 0 else 1)\n",
        "\n",
        "      # check if all the cities in the investigator array are in the author array and vice versa\n",
        "      set_i = set(cities_arr[i])\n",
        "      set_a = set(cities_arr[a])\n",
        "      inv_intersection = set_i.intersection(set_a)\n",
        "      auth_intersection = set_a.intersection(set_i)\n",
        "      cities_percentages.append(len(inv_intersection)/len(set_i) if len(set_i) > 0 else 1)\n",
        "      cities_percentages.append(len(auth_intersection)/len(set_a) if len(set_a) > 0 else 1)\n",
        "\n",
        "print(\"countries fractions: \" + str(countries_percentages))\n",
        "print(\"cities fractions: \" + str(cities_percentages))"
      ]
    },
    {
      "cell_type": "markdown",
      "metadata": {
        "id": "HvB8kENSP-v-"
      },
      "source": [
        "The first array in the output contains the fraction of countries in the investigator array that are also in the author array and vice versa\n",
        "\n",
        "The second one contains the percentages of how many of the cities in the investigator array are in the author array and vice versa\n",
        "\n",
        "We can see that both arrays contains only 1s, which means that the countries and cities of matching instances are always exact matches in the dataset\n",
        "\n",
        "Let us now calculate what we did above for non-matching instances"
      ]
    },
    {
      "cell_type": "code",
      "execution_count": 4,
      "metadata": {
        "colab": {
          "base_uri": "https://localhost:8080/"
        },
        "id": "wgrmasvpP-v-",
        "outputId": "04d9937e-8f81-4d71-8dfe-46eab78a05de"
      },
      "outputs": [
        {
          "name": "stdout",
          "output_type": "stream",
          "text": [
            "average countries fractions: 0.2801483187490761\n",
            "std dev of countries fractions: 0.4456790177770279\n",
            "average cities fractions: 0.25013502622129996\n",
            "std dev of cities fractions: 0.43263697312408295\n"
          ]
        }
      ],
      "source": [
        "import numpy as np\n",
        "countries_percentages = []\n",
        "cities_percentages = []\n",
        "for i in range(1019, len(df_input[0])):\n",
        "  for a in range(1019):\n",
        "    # if these are not matching instances\n",
        "    if df_input[8][i] != df_input[8][a] or pd.isna(df_input[8][i]) or pd.isna(df_input[8][a]):\n",
        "      set_i = set(countries_arr[i])\n",
        "      set_a = set(countries_arr[a])\n",
        "      inv_intersection = set_i.intersection(set_a)\n",
        "      auth_intersection = set_a.intersection(set_i)\n",
        "      countries_percentages.append(len(inv_intersection)/len(set_i) if len(set_i) > 0 else 1)\n",
        "      countries_percentages.append(len(auth_intersection)/len(set_a) if len(set_a) > 0 else 1)\n",
        "\n",
        "      set_i = set(cities_arr[i])\n",
        "      set_a = set(cities_arr[a])\n",
        "      inv_intersection = set_i.intersection(set_a)\n",
        "      auth_intersection = set_a.intersection(set_i)\n",
        "      cities_percentages.append(len(inv_intersection)/len(set_i) if len(set_i) > 0 else 1)\n",
        "      cities_percentages.append(len(auth_intersection)/len(set_a) if len(set_a) > 0 else 1)\n",
        "\n",
        "print(\"average countries fractions: \" + str(np.mean(countries_percentages)))\n",
        "print(\"std dev of countries fractions: \" + str(np.std(countries_percentages)))\n",
        "print(\"average cities fractions: \" + str(np.mean(cities_percentages)))\n",
        "print(\"std dev of cities fractions: \" + str(np.std(cities_percentages)))"
      ]
    },
    {
      "cell_type": "markdown",
      "metadata": {
        "id": "pF26_XUpP-v-"
      },
      "source": [
        "The first two values are the average and standard deviation, respectively, of the fractions of how many of the countries in the investigator array are in the author array and vice versa\n",
        "\n",
        "The last two values are the average and standard deviation, respectively, of the fractions of how many of the cities in the investigator array are in the author array and vice versa\n",
        "\n",
        "The average values tell us that around a quarter of the countries/cities overlap between the authors and investigators in non-matching cases, however the std dev values tell us that there is significant variation here and that it wouldn't be impossible for us to see high or even exact overlap in non-matching instances.\n",
        "\n",
        "Before moving forward, let's set aside coauthors/coinvestigators and note that from a brief visual check they don't seem to give us much information in matching/non-matching cases and therefore we won't use them in constructing the similarity score.\n",
        "\n",
        "The story is different for topics. There does seem to be some overlap in topics in matching cases. One intuition here is to build a term frequency matrix to record distinct topics and the frequency with which these appear with other topics. This could help us construct the similarity score for topics. However, this approach would be greatly inefficient. There are other NLP approaches we could use here but the simplest one for now would be to approach it the same way we did coauthors/coinvestigators."
      ]
    },
    {
      "cell_type": "code",
      "execution_count": 5,
      "metadata": {
        "colab": {
          "base_uri": "https://localhost:8080/"
        },
        "id": "Co7V-40fP-v-",
        "outputId": "3b794c9b-40ed-4dfd-f4e5-63e73db5d23e"
      },
      "outputs": [
        {
          "name": "stdout",
          "output_type": "stream",
          "text": [
            "mean topics percentage: 0.3207805839695993\n",
            "std dev of topics percentages: 0.3819204427734216\n"
          ]
        }
      ],
      "source": [
        "topics_percentages = []\n",
        "for i in range(1019, len(df_input[0])):\n",
        "  for a in range(1019):\n",
        "    # if these are matching instances\n",
        "    if df_input[8][i] == df_input[8][a] and not pd.isna(df_input[8][i]):\n",
        "      set_i = set(topics_arr[i])\n",
        "      set_a = set(topics_arr[a])\n",
        "      inv_intersection = set_i.intersection(set_a)\n",
        "      auth_intersection = set_a.intersection(set_i)\n",
        "      topics_percentages.append(len(inv_intersection)/len(set_i) if len(set_i) > 0 else 1)\n",
        "      topics_percentages.append(len(auth_intersection)/len(set_a) if len(set_a) > 0 else 1)\n",
        "\n",
        "print(\"mean topics percentage: \" + str(np.mean(topics_percentages)))\n",
        "print(\"std dev of topics percentages: \" + str(np.std(topics_percentages)))"
      ]
    },
    {
      "cell_type": "markdown",
      "metadata": {
        "id": "5NhDDnSnP-v-"
      },
      "source": [
        "We can see from the output above that, on average, around a third of the topics of matching authors/investigators instances overlap. There is significant variability. Let us now compare this with the average for non-matching instances."
      ]
    },
    {
      "cell_type": "code",
      "execution_count": 6,
      "metadata": {
        "colab": {
          "base_uri": "https://localhost:8080/"
        },
        "id": "FUr9XKSSP-v-",
        "outputId": "4e430dac-44f7-4a7e-b896-d97511251ff3"
      },
      "outputs": [
        {
          "name": "stdout",
          "output_type": "stream",
          "text": [
            "mean topics percentage: 0.1365303513605662\n",
            "std dev of topics percentages: 0.2616279973136567\n"
          ]
        }
      ],
      "source": [
        "topics_percentages = []\n",
        "for i in range(1019, len(df_input[0])):\n",
        "  for a in range(1019):\n",
        "    # if these are matching instances\n",
        "    if df_input[8][i] != df_input[8][a] or pd.isna(df_input[8][i]) or pd.isna(df_input[8][a]):\n",
        "      set_i = set(topics_arr[i])\n",
        "      set_a = set(topics_arr[a])\n",
        "      inv_intersection = set_i.intersection(set_a)\n",
        "      auth_intersection = set_a.intersection(set_i)\n",
        "      topics_percentages.append(len(inv_intersection)/len(set_i) if len(set_i) > 0 else 1)\n",
        "      topics_percentages.append(len(auth_intersection)/len(set_a) if len(set_a) > 0 else 1)\n",
        "\n",
        "print(\"mean topics percentage: \" + str(np.mean(topics_percentages)))\n",
        "print(\"std dev of topics percentages: \" + str(np.std(topics_percentages)))"
      ]
    },
    {
      "cell_type": "markdown",
      "metadata": {
        "id": "pDA7acYPP-v_"
      },
      "source": [
        "We can see from the output above that, on average, around 14% of the topics of non-matching authors/investigators instances overlap. There is once again significant variability, albeit slightly lower than for matching instances.\n",
        "This tells us that matching instances contain, on average, 2.5x as many matching topics as non-matching instances and that this is a good method of differentiating between non-matching and matching instances.\n"
      ]
    },
    {
      "cell_type": "markdown",
      "metadata": {
        "id": "G0Nays6ZP-v_"
      },
      "source": [
        "# Proposed Solution\n",
        "Let us take a look at why we need our pairwise clustering algorithm. Consider the example below."
      ]
    },
    {
      "cell_type": "code",
      "execution_count": 7,
      "metadata": {
        "colab": {
          "base_uri": "https://localhost:8080/",
          "height": 448
        },
        "id": "S5VG0lzsP-v_",
        "outputId": "5da35277-fa2f-4a31-f560-7f294aaea6f5"
      },
      "outputs": [
        {
          "data": {
            "text/plain": [
              "[<matplotlib.lines.Line2D at 0x7a762c2a8850>]"
            ]
          },
          "execution_count": 7,
          "metadata": {},
          "output_type": "execute_result"
        },
        {
          "data": {
            "image/png": "[encoded data removed]",
            "text/plain": [
              "<Figure size 640x480 with 1 Axes>"
            ]
          },
          "metadata": {},
          "output_type": "display_data"
        }
      ],
      "source": [
        "import matplotlib.pyplot as plt\n",
        "x = [1, 8, 10, 11]\n",
        "y = [0, 0, 0, 0]\n",
        "plt.plot(x, y, 'o', color='black')"
      ]
    },
    {
      "cell_type": "markdown",
      "metadata": {
        "id": "v-KR2Z7ZP-v_"
      },
      "source": [
        "If we use k-means clustering here and set k to 2, the three rightmost points would typically cluster together and the leftmost point would be in its own cluster. So, we need clusters of a fixed size not a fixed number of clusters.\n",
        "\n",
        "Now that we have discussed that, let's get to designing our similarity score which we will feed into the pairwise clustering algorithm implemented in pairwise_clustering() in pairwise_clustering.py.\n",
        "\n",
        "For the similarity metric, we must consider how much weight to give to names, countries, cities, and topics.\n",
        "\n",
        "Because the score from countries, cities, and topics falls in the same scale (0-1), the scale need not be changed.\n",
        "\n",
        "We will give countries/cities 1.6x as much weight as countries and cities because:\n",
        "\n",
        "As calculated above, topics tells us that matching instances, on average, have a value 2.5x as as high as non-matching instances while cities and countries tell us that matching instances, on average, have a value 4x as high as non-matching instances. These are all very rough calculations and can be made more rigorous as needed. This means that topics is (4/2.5)=1.6x as informative as countries or cities.\n",
        "\n",
        "We will assign a negative infinity similarity score to those instances which do not match the naming rules we laid out at the beginning of this investigation. In addition to this, we will calculate a score for names that do match those rules.\n",
        "For now, let's consider middle names more informative than first names because fewer people have them, and therefore give them a higher weight.\n",
        "As a heuristic for names, which could later be improved:\n",
        "\n",
        "If the first names are both longer than 1 character and match exactly, the name score is incremented by 0.4\n",
        "\n",
        "Else if one of them is only one character and they both match, the name score is incremented by 0.2\n",
        "\n",
        "If the middle names are both longer than 1 character and match exactly, the name score is incremented by 0.6\n",
        "\n",
        "Else if one of them is only one character and they both match, the name score is incremented by 0.3\n",
        "\n",
        "Our similarity score between two instances x and y can be represented as follows:\n",
        "\n",
        "sim(x,y) =\n",
        "\n",
        "$\\delta_m + \\delta_n + \\frac{1}{2}(\\frac{1}{c_x}\\sum_{j=1}^{c_x}f_{j,x,c} + \\frac{1}{c_y}\\sum_{j=1}^{c_y}f_{j,y,c}) + \\frac{1}{2}(\\frac{1}{u_x}\\sum_{j=1}^{u_x}f_{j,x,u} + \\frac{1}{u_y}\\sum_{j=1}^{u_y}f_{j,y,u}) + 1.2(\\frac{1}{t_x}\\sum_{j=1}^{t_x}f_{j,x,t} + \\frac{1}{t_y}\\sum_{j=1}^{t_y}f_{j,y,t})$  \n",
        "\n",
        "where\n",
        "\n",
        "$f_{j,y,e} = 1 $ if $x_{e_j} \\in y_e$, $f_{j,y,e} = 0 $ if $x_{e_j} \\notin y_e$  \n",
        "$f_{j,x,e} = 1 $ if $y_{e_j} \\in x_e$, $f_{j,x,e} = 0 $ if $y_{e_j} \\notin x_e$  \n",
        "\n",
        "The above are used to calculate overlap\n",
        "\n",
        "$\\delta_e = 0.6$ if $e = m$ and $x_e = y_e$, $\\delta_e = 0.3$ if $e = m$ and $x_e[0] = y_e[0]$  \n",
        "$\\delta_e = 0.4$ if $e = n$ and $x_e = y_e$, $\\delta_e = 0.2$ if $e = n$ and $x_e[0] = y_e[0]$  \n",
        "\n",
        "The above are used to calculate the name score\n",
        "\n",
        "e in the equation above represents the different features of x and y\n",
        "* e = {m, n, c, u, t} = {middle name, first name, list of cities, list of cities, list of topics}"
      ]
    },
    {
      "cell_type": "markdown",
      "metadata": {
        "id": "v6y-8oqRP-v_"
      },
      "source": [
        "Let's load the data from the csvs in a way that's going to be easily compatible with the similarity score and the pairwise clustering functions."
      ]
    },
    {
      "cell_type": "code",
      "execution_count": 8,
      "metadata": {
        "id": "W3MfI621P-v_"
      },
      "outputs": [],
      "source": [
        "from dataclasses import dataclass\n",
        "from typing import List\n",
        "\n",
        "@dataclass\n",
        "class Researcher:\n",
        "    id: str\n",
        "    first_name: str\n",
        "    middle_name: str\n",
        "    last_name: str\n",
        "    topics: List[str]\n",
        "    cities: List[str]\n",
        "    countries: List[str]\n",
        "    orcid: str\n",
        "\n",
        "def row_to_researcher(row):\n",
        "    topics_list = eval(row[5].replace(\"null\", \"None\"))\n",
        "    cities_list = [city_dict['identifier'] for city_dict in eval(row[6].replace(\"null\", \"None\"))]\n",
        "    countries_list = [country_dict['identifier'] for country_dict in eval(row[7].replace(\"null\", \"None\"))]\n",
        "    if pd.isna(row[1]):\n",
        "        first_name = \"\"\n",
        "    else:\n",
        "        first_name = row[1].replace(\".\", \"\")\n",
        "    if pd.isna(row[2]):\n",
        "        middle_name = \"\"\n",
        "    else:\n",
        "        middle_name = row[2].replace(\".\", \"\")\n",
        "\n",
        "    return Researcher(\n",
        "        id=row[0],\n",
        "        first_name=first_name,\n",
        "        middle_name=middle_name,\n",
        "        last_name=row[3],\n",
        "        topics=topics_list,\n",
        "        cities=cities_list,\n",
        "        countries=countries_list,\n",
        "        orcid=row[8]\n",
        "    )\n",
        "\n",
        "investigators = df_investigators.apply(row_to_researcher, axis=1).tolist()\n",
        "authors = df_authors.apply(row_to_researcher, axis=1).tolist()"
      ]
    },
    {
      "cell_type": "markdown",
      "metadata": {
        "id": "UBnK5FauP-v_"
      },
      "source": [
        "Let's implement the similarity score in code."
      ]
    },
    {
      "cell_type": "code",
      "execution_count": 9,
      "metadata": {
        "id": "iUF8gQwlP-v_"
      },
      "outputs": [],
      "source": [
        "def researcher_similarity_score(researcher1: Researcher, researcher2: Researcher) -> float:\n",
        "    country_score, city_score, topic_score, name_score = 0, 0, 0, 0\n",
        "\n",
        "    if researcher1.last_name != researcher2.last_name:\n",
        "        return float('-inf')\n",
        "    r1_first_len = len(researcher1.first_name)\n",
        "    r2_first_len = len(researcher2.first_name)\n",
        "    r1_middle_len = len(researcher1.middle_name)\n",
        "    r2_middle_len = len(researcher2.middle_name)\n",
        "    if r1_first_len > 1 and r2_first_len > 1:\n",
        "        if researcher1.first_name == researcher2.first_name:\n",
        "            name_score += 0.4\n",
        "        else:\n",
        "            return float('-inf')\n",
        "    elif (r1_first_len == 1 or r2_first_len == 1) and r1_first_len + r2_first_len >= 2:\n",
        "        if researcher1.first_name[0] == researcher2.first_name[0]:\n",
        "            name_score += 0.2\n",
        "        else:\n",
        "            return float('-inf')\n",
        "    if r1_middle_len > 1 and r2_middle_len > 1:\n",
        "        if researcher1.middle_name == researcher2.middle_name:\n",
        "            name_score += 0.6\n",
        "        else:\n",
        "            return float('-inf')\n",
        "    elif (r1_middle_len == 1 or r2_middle_len == 1) and r1_middle_len + r2_middle_len >= 2:\n",
        "        if researcher1.middle_name[0] == researcher2.middle_name[0]:\n",
        "            name_score += 0.3\n",
        "        else:\n",
        "            return float('-inf')\n",
        "    country_set1 = set(researcher1.countries)\n",
        "    country_set2 = set(researcher2.countries)\n",
        "    country_intersection = country_set1.intersection(country_set2)\n",
        "    country_union = country_set1.union(country_set2)\n",
        "    country_score = len(country_intersection)/len(country_union) if len(country_union) > 0 else 0\n",
        "    city_set1 = set(researcher1.cities)\n",
        "    city_set2 = set(researcher2.cities)\n",
        "    city_intersection = city_set1.intersection(city_set2)\n",
        "    city_union = city_set1.union(city_set2)\n",
        "    city_score = len(city_intersection)/len(city_union) if len(city_union) > 0 else 0\n",
        "    topic_set1 = set(researcher1.topics)\n",
        "    topic_set2 = set(researcher2.topics)\n",
        "    topic_intersection = topic_set1.intersection(topic_set2)\n",
        "    topic_union = topic_set1.union(topic_set2)\n",
        "    topic_score = len(topic_intersection)/len(topic_union) if len(topic_union) > 0 else 0\n",
        "\n",
        "    return country_score + city_score + topic_score + name_score\n"
      ]
    },
    {
      "cell_type": "code",
      "execution_count": 10,
      "metadata": {
        "id": "cISz3PhrP-v_"
      },
      "outputs": [],
      "source": [
        "from pairwise_clustering import pairwise_clustering\n",
        "\n",
        "matches = pairwise_clustering(investigators, authors, researcher_similarity_score)"
      ]
    },
    {
      "cell_type": "markdown",
      "metadata": {
        "id": "0dcPz1b2P-v_"
      },
      "source": [
        "The matching objects from both lists are in matches. Let's see what percent of actually matching instances (which we know through orcid) we get correct."
      ]
    },
    {
      "cell_type": "code",
      "execution_count": 11,
      "metadata": {
        "colab": {
          "base_uri": "https://localhost:8080/"
        },
        "id": "-dhKjZ4SP-v_",
        "outputId": "7d5b630c-8f25-4692-9edf-e4b3a6ec634a"
      },
      "outputs": [
        {
          "name": "stdout",
          "output_type": "stream",
          "text": [
            "98.05825242718447% accuracy\n"
          ]
        }
      ],
      "source": [
        "actual_matches = []\n",
        "for investigator in investigators:\n",
        "    for author in authors:\n",
        "        if investigator.orcid == author.orcid:\n",
        "            actual_matches.append((investigator.orcid, author.orcid))\n",
        "matches_ids = [(r1.orcid, r2.orcid) for r1, r2 in matches]\n",
        "num_correct = 0\n",
        "for m in matches_ids:\n",
        "    if m in actual_matches:\n",
        "        num_correct += 1\n",
        "\n",
        "print(f\"{num_correct/len(actual_matches)*100}% accuracy\")\n"
      ]
    },
    {
      "cell_type": "markdown",
      "metadata": {
        "id": "OhWYEuXUVdat"
      },
      "source": [
        "Even with a low number of runs, the algorithm almost always achieves 97%+ accuracy. As the number of runs increases, the accuracy tends upwards. The algorithm has a worst case time complexity of $O(kn^2)$ wrt input k runs and a maximum of n instances in either of the input lists. Despite the quadratic complexity, we can see here it's very fast with relatively small inputs."
      ]
    }
  ],
  "metadata": {
    "colab": {
      "provenance": []
    },
    "kernelspec": {
      "display_name": ".venv",
      "language": "python",
      "name": "python3"
    },
    "language_info": {
      "codemirror_mode": {
        "name": "ipython",
        "version": 3
      },
      "file_extension": ".py",
      "mimetype": "text/x-python",
      "name": "python",
      "nbconvert_exporter": "python",
      "pygments_lexer": "ipython3",
      "version": "3.8.0"
    }
  },
  "nbformat": 4,
  "nbformat_minor": 0
}
